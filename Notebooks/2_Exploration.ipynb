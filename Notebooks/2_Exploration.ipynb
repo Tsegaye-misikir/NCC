{
  "nbformat": 4,
  "nbformat_minor": 0,
  "metadata": {
    "accelerator": "GPU",
    "colab": {
      "name": "2. Exploration.ipynb",
      "provenance": [],
      "collapsed_sections": [],
      "toc_visible": true,
      "machine_shape": "hm"
    },
    "kernelspec": {
      "display_name": "Python 3",
      "language": "python",
      "name": "python3"
    },
    "language_info": {
      "codemirror_mode": {
        "name": "ipython",
        "version": 3
      },
      "file_extension": ".py",
      "mimetype": "text/x-python",
      "name": "python",
      "nbconvert_exporter": "python",
      "pygments_lexer": "ipython3",
      "version": "3.7.6"
    }
  },
  "cells": [
    {
      "cell_type": "markdown",
      "metadata": {
        "id": "u4585QhOn2Yw"
      },
      "source": [
        "# Model Comparision\n",
        "\n",
        "This Notebook is a part of the Thesis Project: Learning Multilingual Document Representations.\n",
        "(Marc Lenz, 2021)\n",
        "\n",
        "\n",
        "** **"
      ]
    },
    {
      "cell_type": "markdown",
      "metadata": {
        "id": "It0niRYTn2Y1"
      },
      "source": [
        "##  1. Create the LSI Models/SVD for Preprocessed Data"
      ]
    },
    {
      "cell_type": "markdown",
      "metadata": {
        "id": "Vfp4BHmEeqw_"
      },
      "source": [
        ""
      ]
    },
    {
      "cell_type": "markdown",
      "metadata": {
        "id": "WAV64Q3un2Y2"
      },
      "source": [
        "The original JRC-Arquis dataset have been preprocessed before. \n",
        "The aligned documents have been saved in two seperate csv files. \n",
        "For details of the preprocessing, check: read_and_preprocess.py"
      ]
    },
    {
      "cell_type": "code",
      "metadata": {
        "colab": {
          "base_uri": "https://localhost:8080/"
        },
        "id": "DnPUdnM5n4_H",
        "outputId": "6b39fe4a-35d3-44ab-eae3-68e62cdb05c1"
      },
      "source": [
        "!git clone https://github.com/marc-lenz/thesis_code.git"
      ],
      "execution_count": null,
      "outputs": [
        {
          "output_type": "stream",
          "text": [
            "Cloning into 'thesis_code'...\n",
            "remote: Enumerating objects: 123, done.\u001b[K\n",
            "remote: Counting objects: 100% (123/123), done.\u001b[K\n",
            "remote: Compressing objects: 100% (99/99), done.\u001b[K\n",
            "remote: Total 123 (delta 58), reused 86 (delta 23), pack-reused 0\u001b[K\n",
            "Receiving objects: 100% (123/123), 26.33 MiB | 20.93 MiB/s, done.\n",
            "Resolving deltas: 100% (58/58), done.\n"
          ],
          "name": "stdout"
        }
      ]
    },
    {
      "cell_type": "code",
      "metadata": {
        "id": "Knia11EuDEsL"
      },
      "source": [
        "dataset = \"EU-Bookshop\"\n",
        "languages = [\"es\", \"en\", \"fr\"] #[\"hu\",\"cs\",'de','en','nl',\"pl\", \"fr\", \"pt\"]"
      ],
      "execution_count": null,
      "outputs": []
    },
    {
      "cell_type": "code",
      "metadata": {
        "id": "hrusNjX-ZN_Q",
        "colab": {
          "base_uri": "https://localhost:8080/"
        },
        "outputId": "c3939d06-9bcb-47fe-f54c-96c1fce79b6b"
      },
      "source": [
        "from google.colab import drive\n",
        "import pandas as pd \n",
        "import numpy as np\n",
        "import pickle\n",
        "\n",
        "drive.mount(\"/content/gdrive\")\n",
        "\n",
        "if dataset == \"JRC_Arquis\" :\n",
        "  main_dir = \"/content/gdrive/My Drive/Thesis/JRC_Arquis_files/\"\n",
        "  sample_df = pd.read_pickle(main_dir+\"sample_df_preprocessed.pkl\")\n",
        "  \n",
        "elif dataset == \"EU-Bookshop\": \n",
        "  main_dir = \"/content/gdrive/My Drive/Thesis/EU-BookShop Files/\"\n",
        "  #define\n",
        "\n",
        "  def get_eub_dataframe(main_dir):\n",
        "    def load(filepath):\n",
        "      with open(filepath,\"rb\") as f:\n",
        "          obj = pickle.load(f)\n",
        "      return obj\n",
        "    tokenized_en = load(main_dir+\"/tokenized_en.list\")\n",
        "    tokenized_fr = load(main_dir+\"/tokenized_fr.list\")\n",
        "    tokenized_es = load(main_dir+\"/tokenized_es.list\")\n",
        "    sample_df = pd.DataFrame()\n",
        "    sample_df[\"body_pre_en\"] = tokenized_en\n",
        "    sample_df[\"body_pre_fr\"] = tokenized_fr\n",
        "    sample_df[\"body_pre_es\"] = tokenized_es\n",
        "    #erase empty lists\n",
        "    for key in sample_df.keys():\n",
        "      sample_df = sample_df[sample_df.astype(str)[key] != '[]']\n",
        "    return sample_df\n",
        "\n",
        "  sample_df = get_eub_dataframe(main_dir)[:5000]"
      ],
      "execution_count": null,
      "outputs": [
        {
          "output_type": "stream",
          "text": [
            "Mounted at /content/gdrive\n"
          ],
          "name": "stdout"
        }
      ]
    },
    {
      "cell_type": "code",
      "metadata": {
        "id": "6sw9E5CgC7yo"
      },
      "source": [
        ""
      ],
      "execution_count": null,
      "outputs": []
    },
    {
      "cell_type": "code",
      "metadata": {
        "id": "SDXY3YCCdKdn"
      },
      "source": [
        "def get_frequencies(dictionary, corpus):\n",
        "  word_counts = {key:0 for key in dictionary.keys()}\n",
        "\n",
        "  for doc in corpus:\n",
        "    for word_tuple in doc:\n",
        "      index = word_tuple[0]\n",
        "      count = word_tuple[1]\n",
        "      word_counts[index] = word_counts[index]+ count\n",
        "\n",
        "  return np.sort(list(word_counts.values()))"
      ],
      "execution_count": null,
      "outputs": []
    },
    {
      "cell_type": "code",
      "metadata": {
        "id": "Pwa-ETXwPJ8-"
      },
      "source": [
        "from gensim import corpora\n",
        "from thesis_code.Preprocessor import Preprocessor\n",
        "\n",
        "p = Preprocessor(language=\"general\")\n",
        "#Preprocessing of texts, get general statistics\n",
        "\n",
        "token_counts = []\n",
        "voc_counts = []\n",
        "corpi = []\n",
        "frequencies = []\n",
        "dictionaries = []\n",
        "for i in languages:\n",
        "  texts = sample_df[\"body_pre_\"+i]\n",
        "  dictionary = corpora.Dictionary(texts)\n",
        "  dictionaries.append(dictionary)\n",
        "  token_num = dictionary.num_pos\n",
        "  unique_words = len(dictionary.keys())\n",
        "  token_counts.append(token_num)\n",
        "  voc_counts.append(unique_words)\n",
        "  corpus = [dictionary.doc2bow(text) for text in texts]\n",
        "  corpi.append(corpus)\n",
        "  frequencies.append(get_frequencies(dictionary, corpus))"
      ],
      "execution_count": null,
      "outputs": []
    },
    {
      "cell_type": "markdown",
      "metadata": {
        "id": "9eo3eZy_gmN8"
      },
      "source": [
        "General, descriptive plots"
      ]
    },
    {
      "cell_type": "code",
      "metadata": {
        "colab": {
          "base_uri": "https://localhost:8080/",
          "height": 353
        },
        "id": "qoZeYGQnkM6M",
        "outputId": "3efbe84d-5d66-4bb2-9c96-569c8e735b62"
      },
      "source": [
        "from matplotlib import pyplot as plt\n",
        "# create figure and axis objects with subplots()\n",
        "fig,ax = plt.subplots(figsize=(10,5))\n",
        "# make a plot\n",
        "ax.bar(languages, token_counts, color=\"red\")\n",
        "# set x-axis label\n",
        "ax.set_xlabel(\"Language\",fontsize=14)\n",
        "# set y-axis label\n",
        "ax.set_ylabel(\"Total Words\",color=\"red\",fontsize=14)\n",
        "\n",
        "# twin object for two different y-axis on the sample plot\n",
        "ax2=ax.twinx()\n",
        "# make a plot with different y-axis using second axis object\n",
        "ax2.bar(languages, voc_counts,color=\"blue\")\n",
        "ax2.set_ylabel(\"Unique Words\",color=\"blue\",fontsize=14)\n",
        "plt.title(\"{}, Total number of words and Vocabulary size\".format(dataset))\n",
        "plt.show()\n",
        "\n"
      ],
      "execution_count": null,
      "outputs": [
        {
          "output_type": "display_data",
          "data": {
            "image/png": "[encoded data removed]",
            "text/plain": [
              "<Figure size 720x360 with 2 Axes>"
            ]
          },
          "metadata": {
            "tags": [],
            "needs_background": "light"
          }
        }
      ]
    },
    {
      "cell_type": "code",
      "metadata": {
        "id": "wOPfhKzKETGJ"
      },
      "source": [
        "doc_lengths = [k for k in doc_lengths if k>10]"
      ],
      "execution_count": null,
      "outputs": []
    },
    {
      "cell_type": "code",
      "metadata": {
        "colab": {
          "base_uri": "https://localhost:8080/"
        },
        "id": "QFK0Yj_HFN-c",
        "outputId": "e8576b2c-1b6f-4312-953c-8e65cfe76259"
      },
      "source": [
        "len(doc_lengths)"
      ],
      "execution_count": null,
      "outputs": [
        {
          "output_type": "execute_result",
          "data": {
            "text/plain": [
              "2806"
            ]
          },
          "metadata": {
            "tags": []
          },
          "execution_count": 37
        }
      ]
    },
    {
      "cell_type": "code",
      "metadata": {
        "colab": {
          "base_uri": "https://localhost:8080/",
          "height": 353
        },
        "id": "G9uK8up7ihLu",
        "outputId": "6913b4e9-894b-43b5-bde6-87a2e4f62c24"
      },
      "source": [
        "plt.figure(figsize=(10,5))\n",
        "lin_hists =[]\n",
        "for k in range(len(languages)):\n",
        "  doc_lengths = [len(doc) for doc in corpi[k]]\n",
        "  lin_hists.append(doc_lengths)\n",
        "\n",
        "bins = np.linspace(10, 2000, 20)\n",
        "plt.hist(lin_hists, bins, label=languages)\n",
        "plt.title(\"Histogramm, tokens within {}\".format(dataset), fontsize=14)\n",
        "plt.legend()"
      ],
      "execution_count": null,
      "outputs": [
        {
          "output_type": "execute_result",
          "data": {
            "text/plain": [
              "<matplotlib.legend.Legend at 0x7f009a1fbd50>"
            ]
          },
          "metadata": {
            "tags": []
          },
          "execution_count": 45
        },
        {
          "output_type": "display_data",
          "data": {
            "image/png": "[encoded data removed]",
            "text/plain": [
              "<Figure size 720x360 with 1 Axes>"
            ]
          },
          "metadata": {
            "tags": [],
            "needs_background": "light"
          }
        }
      ]
    },
    {
      "cell_type": "code",
      "metadata": {
        "colab": {
          "base_uri": "https://localhost:8080/",
          "height": 352
        },
        "id": "q-AGWvBIrKZ9",
        "outputId": "233d3960-541b-4965-8e6a-78118fe455e4"
      },
      "source": [
        "plt.figure(figsize=(10,5))\n",
        "hist_wl = []\n",
        "for k in range(len(dictionaries)):\n",
        "  d = dictionaries[k]\n",
        "  vocab = d.values()\n",
        "  word_lengths = [len(w) for w in vocab]\n",
        "  a = plt.hist(word_lengths, bins = np.linspace(0,30,30), alpha=0.0)\n",
        "  plt.plot(a[0]/np.sum(a[0]),  label=languages[k])\n",
        "  plt.ylim(0, 0.15)\n",
        "plt.legend()\n",
        "plt.title(\"Word Length Distribution, Vocabulary\")\n"
      ],
      "execution_count": null,
      "outputs": [
        {
          "output_type": "execute_result",
          "data": {
            "text/plain": [
              "Text(0.5, 1.0, 'Word Length Distribution, Vocabulary')"
            ]
          },
          "metadata": {
            "tags": []
          },
          "execution_count": 11
        },
        {
          "output_type": "display_data",
          "data": {
            "image/png": "[encoded data removed]",
            "text/plain": [
              "<Figure size 720x360 with 1 Axes>"
            ]
          },
          "metadata": {
            "tags": [],
            "needs_background": "light"
          }
        }
      ]
    },
    {
      "cell_type": "code",
      "metadata": {
        "id": "hd6EL93QXV-D"
      },
      "source": [
        "plt.figure(figsize=(12,8))\n",
        "for k in range(len(frequencies)):\n",
        "  frequency = frequencies[k]\n",
        "\n",
        "  plt.plot(np.arange(len(frequency)),np.flip(frequency), label= languages[k])\n",
        "  plt.xlabel(\"Rank of Word\")\n",
        "  plt.ylabel(\"Frequency of Word\")\n",
        "  plt.ylim(0,1000)\n",
        "  plt.title(\"Zipfs law\")\n",
        "plt.legend()\n",
        "\n",
        "\n",
        "plt.figure(figsize=(12,8))\n",
        "for k in range(len(frequencies)):\n",
        "  frequency = frequencies[k]\n",
        "\n",
        "  plt.plot(np.arange(len(frequency)),np.flip(frequency), label= languages[k])\n",
        "  plt.ylim(0,100)\n",
        "plt.legend()"
      ],
      "execution_count": null,
      "outputs": []
    },
    {
      "cell_type": "code",
      "metadata": {
        "id": "dz90mvFMtMEW"
      },
      "source": [
        "rare_words = []\n",
        "common_words = []\n",
        "for k in range(len(frequencies)):\n",
        "  rare_words.append((frequencies[k] <= 20).sum())\n",
        "  common_words.append((frequencies[k] > 2000).sum())"
      ],
      "execution_count": null,
      "outputs": []
    }
  ]
}